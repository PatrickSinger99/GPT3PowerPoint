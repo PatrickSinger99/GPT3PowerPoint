{
 "cells": [
  {
   "cell_type": "markdown",
   "id": "a3f91e4d",
   "metadata": {},
   "source": [
    "### Imports "
   ]
  },
  {
   "cell_type": "code",
   "execution_count": null,
   "id": "1780e936",
   "metadata": {},
   "outputs": [],
   "source": [
    "from pptx import Presentation\n",
    "from pptx.util import Cm, Pt\n",
    "import PIL\n",
    "from pptx.dml.color import RGBColor\n",
    "from google_images_download import google_images_download\n",
    "import os\n",
    "import openai\n",
    "import shutil"
   ]
  },
  {
   "cell_type": "markdown",
   "id": "8c63a126",
   "metadata": {},
   "source": [
    "### Data"
   ]
  },
  {
   "cell_type": "code",
   "execution_count": null,
   "id": "5b881f77",
   "metadata": {},
   "outputs": [],
   "source": [
    "slide_height = Cm(19.05)\n",
    "slide_width = Cm(25.4)"
   ]
  },
  {
   "cell_type": "code",
   "execution_count": null,
   "id": "90a11315",
   "metadata": {},
   "outputs": [],
   "source": [
    "### Openai key"
   ]
  },
  {
   "cell_type": "code",
   "execution_count": null,
   "id": "649240d8",
   "metadata": {},
   "outputs": [],
   "source": [
    "with open(\"openai_key.txt\") as file:\n",
    "    key = file.read()\n",
    "    openai.api_key = key"
   ]
  },
  {
   "cell_type": "markdown",
   "id": "f4fa6d11",
   "metadata": {},
   "source": [
    "### Add a picture to the presentation"
   ]
  },
  {
   "cell_type": "code",
   "execution_count": null,
   "id": "26c4d86b",
   "metadata": {},
   "outputs": [],
   "source": [
    "def add_picture_bottom_right(slide, img_path, margin=Cm(1), max_pic_height=Cm(14), max_pic_width=Cm(10),\n",
    "                             slide_height=Cm(19.05), slide_width=Cm(25.4)):\n",
    "\n",
    "    if not isinstance(margin, Cm):\n",
    "        margin = Cm(margin)\n",
    "\n",
    "    if not isinstance(max_pic_height, Cm):\n",
    "        max_pic_height = Cm(max_pic_height)\n",
    "\n",
    "    if not isinstance(max_pic_width, Cm):\n",
    "        max_pic_width = Cm(max_pic_width)\n",
    "\n",
    "    if not isinstance(slide_height, Cm):\n",
    "        slide_height = Cm(slide_height)\n",
    "\n",
    "    if not isinstance(slide_width, Cm):\n",
    "        slide_width = Cm(slide_width)\n",
    "\n",
    "    pic_width, pic_height = PIL.Image.open(img_path).size\n",
    "    pic_width = Cm(round(pic_width / 47.25, 2))\n",
    "    pic_height = Cm(round(pic_height / 47.25, 2))\n",
    "\n",
    "    # Convert width if too big\n",
    "    if pic_width > max_pic_width:\n",
    "        ratio = max_pic_width / pic_width\n",
    "        pic_width = max_pic_width\n",
    "        pic_height *= ratio\n",
    "\n",
    "    # Convert Height if too big\n",
    "    if pic_height > max_pic_height:\n",
    "        ratio = max_pic_height / pic_height\n",
    "        pic_height = max_pic_height\n",
    "        pic_width *= ratio\n",
    "\n",
    "    image = slide.shapes.add_picture(img_path, slide_width - margin - pic_width, slide_height - margin - pic_height,\n",
    "                                     height=pic_height, width=pic_width)\n",
    "\n",
    "    return image"
   ]
  },
  {
   "cell_type": "markdown",
   "id": "c5dc581c",
   "metadata": {},
   "source": [
    "### Create PowerPoint from GPT-3\n",
    "Creating a powerpoint from a given topic with a title, bulletpoints and an image per slide"
   ]
  },
  {
   "cell_type": "code",
   "execution_count": null,
   "id": "198d21dc",
   "metadata": {},
   "outputs": [],
   "source": [
    "def create_power_point_slides_from_gpt(dictionary, img_dict, pp_title):\n",
    "\n",
    "    # Create File and Slide\n",
    "    prs = Presentation()\n",
    "    for key in dictionary:\n",
    "        slide = prs.slides.add_slide(prs.slide_layouts[1])\n",
    "\n",
    "        # Add Title\n",
    "        title = slide.shapes.title\n",
    "        title.text = key\n",
    "\n",
    "        title.text_frame.paragraphs[0].font.color.rgb = RGBColor(59, 89, 152)\n",
    "        title.text_frame.paragraphs[0].font.bold = True\n",
    "        title.text_frame.paragraphs[0].font.name = \"Calibri Light\"\n",
    "\n",
    "        # Add Bulletpoints\n",
    "        subtitle = slide.placeholders[1]\n",
    "        subtitle.text = dictionary[key].replace(\".\", \".\\n\")\n",
    "\n",
    "        for line in subtitle.text_frame.paragraphs:\n",
    "            line.font.size = Pt(25)\n",
    "            line.font.name = \"Calibri Light\"\n",
    "\n",
    "        subtitle.width = Cm(12)\n",
    "        subtitle.height = Cm(19.05 - 5.2)\n",
    "        subtitle.top = Cm(4.2)\n",
    "        subtitle.left = Cm(1)\n",
    "\n",
    "        try:\n",
    "            img = add_picture_bottom_right(slide, img_dict[key], max_pic_width=Cm(11))\n",
    "        except:\n",
    "            pass\n",
    "\n",
    "    prs.save(pp_title + \"_mul_slides.pptx\")"
   ]
  }
 ],
 "metadata": {
  "kernelspec": {
   "display_name": "Python 3 (ipykernel)",
   "language": "python",
   "name": "python3"
  },
  "language_info": {
   "codemirror_mode": {
    "name": "ipython",
    "version": 3
   },
   "file_extension": ".py",
   "mimetype": "text/x-python",
   "name": "python",
   "nbconvert_exporter": "python",
   "pygments_lexer": "ipython3",
   "version": "3.9.7"
  }
 },
 "nbformat": 4,
 "nbformat_minor": 5
}
