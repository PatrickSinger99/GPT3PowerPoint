{
 "cells": [
  {
   "cell_type": "markdown",
   "id": "8e58e138",
   "metadata": {},
   "source": [
    "### Imports"
   ]
  },
  {
   "cell_type": "code",
   "execution_count": null,
   "id": "4ccb1355",
   "metadata": {},
   "outputs": [],
   "source": [
    "from gpt import GPT\n",
    "from gpt import Example\n",
    "import openai"
   ]
  },
  {
   "cell_type": "markdown",
   "id": "a31fd303",
   "metadata": {},
   "source": [
    "### OpenAI Key\n",
    "Get the OpenAI Key from the txt file"
   ]
  },
  {
   "cell_type": "code",
   "execution_count": null,
   "id": "4e42e5f9",
   "metadata": {},
   "outputs": [],
   "source": [
    "# Openai key\n",
    "with open(\"openai_key.txt\") as file:\n",
    "    key = file.read()\n",
    "    openai.api_key = key"
   ]
  },
  {
   "cell_type": "markdown",
   "id": "54d4f0e1",
   "metadata": {},
   "source": [
    "### Model Training\n",
    "A GPT Model is beeing created and then trained with Examples.\n",
    "\n",
    "The goal for the model is to create a few short sentences from a given text."
   ]
  },
  {
   "cell_type": "code",
   "execution_count": null,
   "id": "497f86f7",
   "metadata": {},
   "outputs": [],
   "source": [
    "def create_sum_model():\n",
    "    # Create model\n",
    "    gpt_sum = GPT(engine=\"davinci\", temperature=.3, max_tokens=70)\n",
    "\n",
    "    # Training the model with examples\n",
    "    gpt_sum.add_example(Example(\"Napoleon III (Charles Louis Napoléon Bonaparte; 20 April 1808 – 9 January 1873) was the \"\n",
    "                                \"first President of France (as Louis-Napoléon Bonaparte) from 1848 to 1852 and the Emperor \"\n",
    "                                \"of the French from 1852 to 1870. A nephew of Napoleon I, he was the last monarch to rule \"\n",
    "                                \"over France. Elected to the presidency of the Second Republic in 1848, he seized power by \"\n",
    "                                \"force in 1851, when he could not constitutionally be reelected; he later proclaimed \"\n",
    "                                \"himself Emperor of the French. He founded the Second Empire, reigning until the defeat \"\n",
    "                                \"of the French Army and his capture by Prussia and its allies at the Battle of Sedan in \"\n",
    "                                \"1870. Napoleon III was a popular monarch, who used plebiscites to guide his actions, \"\n",
    "                                \"oversaw the modernisation of the French economy and worked to have the centre of Paris \"\n",
    "                                \"rebuilt following the guidelines of the Napoleon III style. He expanded the French \"\n",
    "                                \"overseas empire and made the French merchant navy the second largest in the world, \"\n",
    "                                \"engaged in the Second Italian War of Independence as well as the disastrous \"\n",
    "                                \"Franco-Prussian War, in which he commanded his soldiers during the fight and was \"\n",
    "                                \"captured.\",\n",
    "                                \"Napoleon III was the first President of France. \"\n",
    "                                \"He founded the Second Empire, reigning until the defeat. \"\n",
    "                                \"He made the French merchant navy the second largest in the world.\"\n",
    "                                ))\n",
    "\n",
    "    gpt_sum.add_example(Example(\"A mitochondrion (/ˌmaɪtəˈkɒndriən/;[1] pl. mitochondria) is a double-membrane-bound \"\n",
    "                                \"organelle found in most eukaryotic organisms. Mitochondria generate most of the \"\n",
    "                                \"cell's supply of adenosine triphosphate (ATP), used as a source of chemical energy.[2] \"\n",
    "                                \"They were first discovered by Albert von Kölliker in 1880 in the voluntary muscles of \"\n",
    "                                \"insects. The mitochondrion is popularly nicknamed the powerhouse of the cell,\"\n",
    "                                \" a phrase coined by Philip Siekevitz in a 1957 article of the same name.\",\n",
    "                                \"A mitochondrion is a double-membrane-bound organelle. \"\n",
    "                                \"Mitochondria generate most of the cell's supply of adenosine triphosphate. \"\n",
    "                                \"The mitochondrion is often called the powerhouse of the cell. \"\n",
    "                                ))\n",
    "\n",
    "    gpt_sum.add_example(Example(\"A blockchain is a growing list of records, called blocks, that are linked together \"\n",
    "                                \"using cryptography.[1][2][3][4] Each block contains a cryptographic hash of the \"\n",
    "                                \"previous block, a timestamp, and transaction data (generally represented as a Merkle \"\n",
    "                                \"tree). The timestamp proves that the transaction data existed when the block was published\"\n",
    "                                \" in order to get into its hash. As blocks each contain information about the block \"\n",
    "                                \"previous to it, they form a chain, with each additional block reinforcing the ones \"\n",
    "                                \"before it. Therefore, blockchains are resistant to modification of their data because \"\n",
    "                                \"once recorded, the data in any given block cannot be altered retroactively without \"\n",
    "                                \"altering all subsequent blocks.\",\n",
    "                                \"A blockchain is a list of blocks, that are linked together. \"\n",
    "                                \"Blockchains are resistant to modification of their data. \"\n",
    "                                \"The data in any given block cannot be altered once recorded.\"\n",
    "                                ))\n",
    "    return gpt_sum"
   ]
  }
 ],
 "metadata": {
  "kernelspec": {
   "display_name": "Python 3 (ipykernel)",
   "language": "python",
   "name": "python3"
  },
  "language_info": {
   "codemirror_mode": {
    "name": "ipython",
    "version": 3
   },
   "file_extension": ".py",
   "mimetype": "text/x-python",
   "name": "python",
   "nbconvert_exporter": "python",
   "pygments_lexer": "ipython3",
   "version": "3.8.8"
  }
 },
 "nbformat": 4,
 "nbformat_minor": 5
}
