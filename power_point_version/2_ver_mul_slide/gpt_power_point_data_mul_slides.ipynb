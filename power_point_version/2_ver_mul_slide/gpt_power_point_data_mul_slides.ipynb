{
 "cells": [
  {
   "cell_type": "markdown",
   "id": "5f95cbd8",
   "metadata": {},
   "source": [
    "### Imports"
   ]
  },
  {
   "cell_type": "code",
   "execution_count": 13,
   "id": "49c58db4",
   "metadata": {},
   "outputs": [],
   "source": [
    "%run gpt_power_point_creator_mul_slides.ipynb\n",
    "%run summarization_training.ipynb\n",
    "\n",
    "import openai\n",
    "import wikipediaapi\n",
    "from google_images_download import google_images_download\n",
    "import os\n",
    "import shutil"
   ]
  },
  {
   "cell_type": "markdown",
   "id": "0589f77a",
   "metadata": {},
   "source": [
    "### Set lenght of bulletpoints and max. number of slides"
   ]
  },
  {
   "cell_type": "code",
   "execution_count": 14,
   "id": "26b66ec1",
   "metadata": {},
   "outputs": [],
   "source": [
    "max_len = 150  \n",
    "max_slide_num = 5"
   ]
  },
  {
   "cell_type": "markdown",
   "id": "341bb7ac",
   "metadata": {},
   "source": [
    "### Set wikipedia language"
   ]
  },
  {
   "cell_type": "code",
   "execution_count": 15,
   "id": "c8ec6ff6",
   "metadata": {},
   "outputs": [],
   "source": [
    "wiki_wiki = wikipediaapi.Wikipedia(language='en', extract_format=wikipediaapi.ExtractFormat.WIKI)"
   ]
  },
  {
   "cell_type": "markdown",
   "id": "54c085a3",
   "metadata": {},
   "source": [
    "### Get topic"
   ]
  },
  {
   "cell_type": "code",
   "execution_count": 16,
   "id": "88b7fad5",
   "metadata": {},
   "outputs": [
    {
     "name": "stdout",
     "output_type": "stream",
     "text": [
      "Topic: ferrari\n",
      "\n",
      "Found Subtopics: \n",
      "Ferrari\n",
      "History\n",
      "Motorsport\n",
      "Road cars\n",
      "Identity\n",
      "\n",
      "\n",
      "Do you want a power-point for these topics? (y/n): y\n"
     ]
    }
   ],
   "source": [
    "while True:\n",
    "    # Inputs\n",
    "    prompt = input(\"Topic: \")\n",
    "\n",
    "    # Define the wikipedia page\n",
    "    p_wiki = wiki_wiki.page(prompt)\n",
    "\n",
    "    # dictionary of the wikipedia page\n",
    "    def create_dict(page):\n",
    "        dict = {}\n",
    "        dict[page.title] = page.summary\n",
    "        for s in page.sections:\n",
    "            dict[s.title] = s.text\n",
    "\n",
    "            try:\n",
    "                if s.text == \"\":\n",
    "                    dict[s.title] = s.sections[0].text\n",
    "            except:\n",
    "                pass\n",
    "        return dict\n",
    "\n",
    "    wiki_dict = create_dict(p_wiki)\n",
    "    try:\n",
    "        wiki_dict.pop(\"See also\")\n",
    "    except:\n",
    "        pass\n",
    "    try:\n",
    "        wiki_dict.pop(\"References\")\n",
    "    except:\n",
    "        pass\n",
    "    try:\n",
    "        wiki_dict.pop(\"External links\")\n",
    "    except:\n",
    "        pass\n",
    "    try:\n",
    "        wiki_dict.pop(\"Further reading\")\n",
    "    except:\n",
    "        pass\n",
    "    try:\n",
    "        wiki_dict.pop(\"Notes\")\n",
    "    except:\n",
    "        pass\n",
    "\n",
    "    new_wiki_dict = {}\n",
    "    slide_num = 0\n",
    "    for key in wiki_dict:\n",
    "        slide_num += 1\n",
    "        if slide_num <= max_slide_num:\n",
    "            new_wiki_dict[key] = wiki_dict[key]\n",
    "\n",
    "    # Print Subtopics\n",
    "    print(\"\\nFound Subtopics: \")\n",
    "    for key in new_wiki_dict:\n",
    "        print(key)\n",
    "    print(\"\\n\")\n",
    "\n",
    "    verify = input(\"Do you want a power-point for these topics? (y/n): \")\n",
    "    if verify.lower() == \"y\":\n",
    "        break\n"
   ]
  },
  {
   "cell_type": "markdown",
   "id": "1919d86f",
   "metadata": {},
   "source": [
    "### Openai key"
   ]
  },
  {
   "cell_type": "code",
   "execution_count": 17,
   "id": "48b59526",
   "metadata": {},
   "outputs": [
    {
     "name": "stdout",
     "output_type": "stream",
     "text": [
      "\n",
      "Summarized points for Ferrari:\n",
      "    - Ferrari S.p.A\n",
      "    - is an Italian luxury sports car manufacturer.\n",
      "\n",
      "Summarized points for History:\n",
      "    -  Enzo Ferrari was not initially interested in the idea of producing road cars when he formeduderia Ferrari in 1929, with headquarters in Modena.\n",
      "\n",
      "Summarized points for Motorsport:\n",
      "    - Since its beginnings, Ferrari has been involved in motorsport.\n",
      "\n",
      "Summarized points for Road cars:\n",
      "    -  The first vehicle made with the Ferrari name was the 125 S\n",
      "    - Only two of this small two-seat sports/racing V12 car were made.\n",
      "\n",
      "Summarized points for Identity:\n",
      "    -  The Cavallino Rampante is the symbol of Ferrari\n",
      "    - Cavallino Magazine uses the name, but not the logo.\n"
     ]
    }
   ],
   "source": [
    "with open(\"openai_key.txt\") as file:\n",
    "    key = file.read()\n",
    "    openai.api_key = key\n",
    "\n",
    "gpt_sum = summarization_training.create_sum_model()\n",
    "\n",
    "dict_for_pptx = {}\n",
    "\n",
    "for key in new_wiki_dict:\n",
    "    # Get GPT output\n",
    "    output = gpt_sum.submit_request(new_wiki_dict[key])\n",
    "    output = output.choices[0].text[8:]\n",
    "\n",
    "    # Crop if too long\n",
    "    if len(output) > max_len:\n",
    "        output = output[:max_len]\n",
    "        to_cut = \"\"\n",
    "        for i in reversed(range(1, len(output))):\n",
    "            if output[i] == \".\":\n",
    "                output = output.replace(to_cut, \"\")\n",
    "                break\n",
    "            to_cut = output[i] + to_cut\n",
    "\n",
    "    # Print Points\n",
    "    print(\"\\nSummarized points for \" + key + \":\")\n",
    "    for sentence in output.split(\". \"):\n",
    "        print(\"    - \" + sentence)\n",
    "\n",
    "    dict_for_pptx[key] = output\n",
    "\n",
    "# Delete download folder if it exists\n",
    "try:\n",
    "    shutil.rmtree('downloads')\n",
    "except FileNotFoundError:\n",
    "    pass"
   ]
  },
  {
   "cell_type": "markdown",
   "id": "69fb5130",
   "metadata": {},
   "source": [
    "### Download an image for the keyword"
   ]
  },
  {
   "cell_type": "code",
   "execution_count": 18,
   "id": "b0cd2a43",
   "metadata": {},
   "outputs": [
    {
     "name": "stdout",
     "output_type": "stream",
     "text": [
      "\n",
      "Item no.: 1 --> Item name = ferrari\n",
      "Evaluating...\n",
      "Starting Download...\n",
      "Image URL: https://carconfigurator.ferrari.com/assets/cars/portofinom/packages/default/car-ferrari-portofino-m_splash.jpg\n",
      "Completed Image ====> 1.car-ferrari-portofino-m_splash.jpg\n",
      "Image URL: https://imgr1.auto-motor-und-sport.de/Ferrari-F8-Tributo-bigMobileWide-1054d77e-1432047.jpg\n",
      "Completed Image ====> 2.ferrari-f8-tributo-bigmobilewide-1054d77e-1432047.jpg\n",
      "Image URL: https://upload.wikimedia.org/wikipedia/commons/1/13/Red_2019_Ferrari_SF90_Stradale_%2848264238897%29_%28cropped%29.jpg\n",
      "Completed Image ====> 3.red_2019_ferrari_sf90_stradale_%2848264238897%29_%28cropped%29.jpg\n",
      "Image URL: https://m.faz.net/media1/ppmedia/aktuell/technik-motor/2932592337/1.6841143/mmobject-still_full/der-neue-ferrari-sf90-stradale.jpg\n",
      "Completed Image ====> 4.der-neue-ferrari-sf90-stradale.jpg\n",
      "Image URL: https://lookaside.fbsbx.com/lookaside/crawler/media/?media_id=10159405266101970\n",
      "Invalid image format 'text/html'. Skipping...\n",
      "Image URL: https://i.auto-bild.de/ir_img/2/9/1/2/8/8/7/Ferrari-296_GTB_4-396dde78488ebe84.jpg\n",
      "Completed Image ====> 5.ferrari-296_gtb_4-396dde78488ebe84.jpg\n",
      "Image URL: https://cdn.motor1.com/images/mgl/OkpwL/s1/4x3/ferrari-296-gtb.webp\n",
      "Completed Image ====> 6.ferrari-296-gtb.webp\n",
      "Image URL: https://cdn.motor1.com/images/mgl/VPRPz/s1/2022-ferrari-br20.jpg\n",
      "Completed Image ====> 7.2022-ferrari-br20.jpg\n",
      "\n",
      "Errors: 1\n",
      "\n"
     ]
    }
   ],
   "source": [
    "response = google_images_download.googleimagesdownload()\n",
    "arguments = {\"keywords\": prompt, \"limit\": max_slide_num+2, \"print_urls\": True, format: \"jpg\"}\n",
    "response.download(arguments)\n",
    "\n",
    "\n",
    "img_list = os.listdir(\"downloads/\" + prompt)\n",
    "img_dict = {}\n",
    "\n",
    "counter = 0\n",
    "try:\n",
    "    for key in dict_for_pptx:\n",
    "        img_dict[key] = \"downloads/\" + prompt + \"//\" + img_list[counter]\n",
    "        counter += 1\n",
    "except:\n",
    "    pass"
   ]
  },
  {
   "cell_type": "markdown",
   "id": "a5bc0a5d",
   "metadata": {},
   "source": [
    "### Create PowerPoint with multiple slides"
   ]
  },
  {
   "cell_type": "code",
   "execution_count": 19,
   "id": "46628d19",
   "metadata": {},
   "outputs": [],
   "source": [
    "gpt_power_point_creator_mul_slides.create_power_point_slides_from_gpt(dict_for_pptx, img_dict, prompt)\n"
   ]
  }
 ],
 "metadata": {
  "kernelspec": {
   "display_name": "Python 3 (ipykernel)",
   "language": "python",
   "name": "python3"
  },
  "language_info": {
   "codemirror_mode": {
    "name": "ipython",
    "version": 3
   },
   "file_extension": ".py",
   "mimetype": "text/x-python",
   "name": "python",
   "nbconvert_exporter": "python",
   "pygments_lexer": "ipython3",
   "version": "3.8.8"
  }
 },
 "nbformat": 4,
 "nbformat_minor": 5
}
