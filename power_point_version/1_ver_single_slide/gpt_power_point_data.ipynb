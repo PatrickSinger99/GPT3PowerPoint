{
 "cells": [
  {
   "cell_type": "markdown",
   "id": "a9aad723",
   "metadata": {},
   "source": [
    "### Imports"
   ]
  },
  {
   "cell_type": "code",
   "execution_count": null,
   "id": "5133e4fa",
   "metadata": {},
   "outputs": [],
   "source": [
    "%run gpt_power_point_creator.ipynb\n",
    "%run summarization_training.ipynb\n",
    "\n",
    "import openai\n",
    "from google_images_download import google_images_download\n",
    "import os\n",
    "import shutil\n",
    "import wikipediaapi"
   ]
  },
  {
   "cell_type": "markdown",
   "id": "1cc75b41",
   "metadata": {},
   "source": [
    "### Max length of the Bullet Points\n",
    "Set the max length of bulletpoints to 150 characters"
   ]
  },
  {
   "cell_type": "code",
   "execution_count": null,
   "id": "f10fc037",
   "metadata": {},
   "outputs": [],
   "source": [
    "max_len = 150"
   ]
  },
  {
   "cell_type": "markdown",
   "id": "96c172ca",
   "metadata": {},
   "source": [
    "### Set wikipedia language\n",
    "Set wikipedia language to english"
   ]
  },
  {
   "cell_type": "code",
   "execution_count": null,
   "id": "2e90559c",
   "metadata": {},
   "outputs": [],
   "source": [
    "wiki_wiki = wikipediaapi.Wikipedia(language='en', extract_format=wikipediaapi.ExtractFormat.WIKI)"
   ]
  },
  {
   "cell_type": "markdown",
   "id": "8508ec19",
   "metadata": {},
   "source": [
    "### Get topic from Wikipedia\n",
    "Get the topic to a given prompt from wikipedia"
   ]
  },
  {
   "cell_type": "code",
   "execution_count": null,
   "id": "6a9d072a",
   "metadata": {},
   "outputs": [],
   "source": [
    "while True:\n",
    "    # Inputs\n",
    "    prompt = input(\"Topic: \")\n",
    "\n",
    "    # Define the wikipedia page\n",
    "    p_wiki = wiki_wiki.page(prompt)\n",
    "\n",
    "    # Summary of the wikipedia page\n",
    "    wiki_summary = p_wiki.summary\n",
    "    wiki_summary = wiki_summary.replace(\"\\n\", \" \")\n",
    "    print(wiki_summary)\n",
    "    verify = input(\"Do you want to summarize this text? (y/n): \")\n",
    "    if verify.lower() == \"y\":\n",
    "        break"
   ]
  },
  {
   "cell_type": "markdown",
   "id": "89b2d132",
   "metadata": {},
   "source": [
    "### Openai key\n",
    "Get the OpenAI Key from the txt file"
   ]
  },
  {
   "cell_type": "code",
   "execution_count": null,
   "id": "e9d850aa",
   "metadata": {},
   "outputs": [],
   "source": [
    "with open(\"openai_key.txt\") as file:\n",
    "    key = file.read()\n",
    "    openai.api_key = key\n",
    "\n",
    "gpt_sum = summarization_training.create_sum_model()"
   ]
  },
  {
   "cell_type": "markdown",
   "id": "421b52b3",
   "metadata": {},
   "source": [
    "### Get GPT output\n",
    "Get the output created by GPT-3"
   ]
  },
  {
   "cell_type": "code",
   "execution_count": null,
   "id": "29d1e55c",
   "metadata": {},
   "outputs": [],
   "source": [
    "output = gpt_sum.submit_request(wiki_summary)\n",
    "output = output.choices[0].text[8:]"
   ]
  },
  {
   "cell_type": "markdown",
   "id": "ef83b34c",
   "metadata": {},
   "source": [
    "### Crop if too long\n",
    "Crop the output if a bulletpoint isn´t complete because of token limitation"
   ]
  },
  {
   "cell_type": "code",
   "execution_count": null,
   "id": "f1391dd1",
   "metadata": {},
   "outputs": [],
   "source": [
    "if len(output) > max_len:\n",
    "    output = output[:max_len]\n",
    "    to_cut = \"\"\n",
    "    for i in reversed(range(1, len(output))):\n",
    "        if output[i] == \".\":\n",
    "            output = output.replace(to_cut, \"\")\n",
    "            break\n",
    "        to_cut = output[i] + to_cut"
   ]
  },
  {
   "cell_type": "markdown",
   "id": "ab5dddd9",
   "metadata": {},
   "source": [
    "### Print Points\n",
    "Print the summarized points"
   ]
  },
  {
   "cell_type": "code",
   "execution_count": null,
   "id": "752a78ba",
   "metadata": {},
   "outputs": [],
   "source": [
    "print(\"\\nSummarized points:\")\n",
    "for sentence in output.split(\". \"):\n",
    "    print(\"    - \" + sentence)"
   ]
  },
  {
   "cell_type": "markdown",
   "id": "f82f8f0b",
   "metadata": {},
   "source": [
    "### Getting the keywords\n",
    "Get the keywords from the summarized text"
   ]
  },
  {
   "cell_type": "code",
   "execution_count": null,
   "id": "780a6c8f",
   "metadata": {},
   "outputs": [],
   "source": [
    "keyword_response = openai.Completion.create(engine=\"davinci\", prompt=\"Text: \" + output + \"Keywords:\", temperature=0.3, max_tokens=60, top_p=1.0,\n",
    "                                            frequency_penalty=0.8, presence_penalty=0.0, stop=[\"\\n\"])\n"
   ]
  },
  {
   "cell_type": "markdown",
   "id": "192de783",
   "metadata": {},
   "source": [
    "### Convert into list\n",
    "Convert the keywords created by GPT-3 into a list"
   ]
  },
  {
   "cell_type": "code",
   "execution_count": null,
   "id": "548f81ea",
   "metadata": {},
   "outputs": [],
   "source": [
    "keywords = keyword_response.choices[0].text\n",
    "keywords = keywords.split(\",\")\n",
    "\n",
    "print(\"\\n Extracted keywords:\")\n",
    "for keyword in keywords:\n",
    "    print(\"    - \" + keyword)"
   ]
  },
  {
   "cell_type": "markdown",
   "id": "72b3418a",
   "metadata": {},
   "source": [
    "### Delete download folder if it exists"
   ]
  },
  {
   "cell_type": "code",
   "execution_count": null,
   "id": "73bb13be",
   "metadata": {},
   "outputs": [],
   "source": [
    "try:\n",
    "    shutil.rmtree('downloads')\n",
    "except FileNotFoundError:\n",
    "    pass"
   ]
  },
  {
   "cell_type": "markdown",
   "id": "1199fa29",
   "metadata": {},
   "source": [
    "### Download  images \n",
    "Download an image to every keyword (currently just the first one)\n"
   ]
  },
  {
   "cell_type": "code",
   "execution_count": null,
   "id": "df8cb607",
   "metadata": {},
   "outputs": [],
   "source": [
    "for i in keywords[:1]:\n",
    "    response = google_images_download.googleimagesdownload()\n",
    "    arguments = {\"keywords\": i, \"limit\": 1, \"print_urls\": True, format: \"jpg\"}\n",
    "    response.download(arguments)"
   ]
  },
  {
   "cell_type": "markdown",
   "id": "85776d3c",
   "metadata": {
    "pycharm": {
     "name": "#%% md\n"
    }
   },
   "source": [
    "### Create path to image"
   ]
  },
  {
   "cell_type": "code",
   "execution_count": null,
   "id": "dd398363",
   "metadata": {},
   "outputs": [],
   "source": [
    "pic_path = \"downloads/\" + keywords[0] + \"/\" + os.listdir(\"downloads/\" + keywords[0])[0]"
   ]
  },
  {
   "cell_type": "markdown",
   "id": "e827ab10",
   "metadata": {},
   "source": [
    "### Create the powerpoint\n",
    "Using the created keywords, the summary and the pciture"
   ]
  },
  {
   "cell_type": "code",
   "execution_count": null,
   "id": "ac10de1a",
   "metadata": {},
   "outputs": [],
   "source": [
    "gpt_power_point_creator.create_power_point_from_gpt(keywords[0], output, pic_path)"
   ]
  }
 ],
 "metadata": {
  "kernelspec": {
   "display_name": "Python 3 (ipykernel)",
   "language": "python",
   "name": "python3"
  },
  "language_info": {
   "codemirror_mode": {
    "name": "ipython",
    "version": 3
   },
   "file_extension": ".py",
   "mimetype": "text/x-python",
   "name": "python",
   "nbconvert_exporter": "python",
   "pygments_lexer": "ipython3",
   "version": "3.9.7"
  }
 },
 "nbformat": 4,
 "nbformat_minor": 5
}
