{
 "cells": [
  {
   "cell_type": "markdown",
   "id": "fab301f3",
   "metadata": {},
   "source": [
    "### Imports"
   ]
  },
  {
   "cell_type": "code",
   "execution_count": null,
   "id": "0054ebef",
   "metadata": {},
   "outputs": [],
   "source": [
    "%run gpt_power_point_creator.ipynb\n",
    "\n",
    "import openai\n",
    "from google_images_download import google_images_download\n",
    "import os\n",
    "import shutil\n",
    "from gpt import GPT\n",
    "import openai\n",
    "from gpt import Example"
   ]
  },
  {
   "cell_type": "markdown",
   "id": "5e477b7e",
   "metadata": {},
   "source": [
    "### Max length of the Bullet Points"
   ]
  },
  {
   "cell_type": "code",
   "execution_count": null,
   "id": "cfae233c",
   "metadata": {},
   "outputs": [],
   "source": [
    "max_len = 150"
   ]
  },
  {
   "cell_type": "markdown",
   "id": "b461ef66",
   "metadata": {},
   "source": [
    "### Get Input"
   ]
  },
  {
   "cell_type": "code",
   "execution_count": null,
   "id": "6611d5d3",
   "metadata": {},
   "outputs": [],
   "source": [
    "prompt = input(\"Topic: \")"
   ]
  },
  {
   "cell_type": "markdown",
   "id": "74e9af5e",
   "metadata": {},
   "source": [
    "### Openai key"
   ]
  },
  {
   "cell_type": "code",
   "execution_count": null,
   "id": "6dbf24a9",
   "metadata": {},
   "outputs": [],
   "source": [
    "with open(\"openai_key.txt\") as file:\n",
    "    key = file.read()\n",
    "    openai.api_key = key"
   ]
  },
  {
   "cell_type": "markdown",
   "id": "f343f88e",
   "metadata": {},
   "source": [
    "### Training examples"
   ]
  },
  {
   "cell_type": "code",
   "execution_count": null,
   "id": "5e47f1bd",
   "metadata": {},
   "outputs": [],
   "source": [
    "gpt_point_creation = GPT(engine=\"davinci\", temperature=.5, max_tokens=120)\n",
    "\n",
    "gpt_point_creation.add_example(Example(\"Napoleon III\",\n",
    "                                       \"Napoleon III was the first President of France. \"\n",
    "                                       \"He founded the Second Empire, reigning until the defeat. \"\n",
    "                                       \"He made the French merchant navy the second largest in the world.\"\n",
    "                                       ))\n",
    "\n",
    "gpt_point_creation.add_example(Example(\"mitochondrion\",\n",
    "                                       \"A mitochondrion is a double-membrane-bound organelle. \"\n",
    "                                       \"Mitochondria generate most of the cell's supply of adenosine triphosphate. \"\n",
    "                                       \"The mitochondrion is often called the powerhouse of the cell.\"\n",
    "                                       ))\n",
    "\n",
    "\n",
    "gpt_point_creation.add_example(Example(\"blockchain\",\n",
    "                                       \"A blockchain is a list of blocks, that are linked together. \"\n",
    "                                       \"Blockchains are resistant to modification of their data. \"\n",
    "                                       \"The data in any given block cannot be altered once recorded.\"\n",
    "                                       ))\n",
    "\n",
    "gpt_point_creation.add_example(Example(\"germany\",\n",
    "                                       \"Germany is a country in Central Europe. \"\n",
    "                                       \"A region named Germania was documented before AD 100. In the 10th century. \"\n",
    "                                       \"It covers an area of 357,022 square kilometres. \"\n",
    "                                       \"Germany has a population of over 83 million within its 16 constituent states.\"\n",
    "                                       ))"
   ]
  },
  {
   "cell_type": "markdown",
   "id": "7ecba810",
   "metadata": {},
   "source": [
    "### Get GPT output"
   ]
  },
  {
   "cell_type": "code",
   "execution_count": null,
   "id": "9ba5d3d2",
   "metadata": {},
   "outputs": [],
   "source": [
    "output = gpt_point_creation.submit_request(prompt)\n",
    "output = output.choices[0].text[8:]"
   ]
  },
  {
   "cell_type": "markdown",
   "id": "583fb807",
   "metadata": {},
   "source": [
    "### Crop if too long"
   ]
  },
  {
   "cell_type": "code",
   "execution_count": null,
   "id": "f52ffb6f",
   "metadata": {},
   "outputs": [],
   "source": [
    "if len(output) > max_len:\n",
    "    output = output[:max_len]\n",
    "    to_cut = \"\"\n",
    "    for i in reversed(range(1, len(output))):\n",
    "        if output[i] == \".\":\n",
    "            output = output.replace(to_cut, \"\")\n",
    "            break\n",
    "        to_cut = output[i] + to_cut"
   ]
  },
  {
   "cell_type": "markdown",
   "id": "b5d825a5",
   "metadata": {},
   "source": [
    "### Print Points"
   ]
  },
  {
   "cell_type": "code",
   "execution_count": null,
   "id": "3bb25d16",
   "metadata": {},
   "outputs": [],
   "source": [
    "print(\"\\nSummarized points:\")\n",
    "for sentence in output.split(\". \"):\n",
    "    print(\"    - \" + sentence)\n",
    "\n",
    "\n",
    "keyword = prompt"
   ]
  },
  {
   "cell_type": "markdown",
   "id": "927c732d",
   "metadata": {},
   "source": [
    "### Delete download folder if it exists"
   ]
  },
  {
   "cell_type": "code",
   "execution_count": null,
   "id": "ac44dcf5",
   "metadata": {},
   "outputs": [],
   "source": [
    "try:\n",
    "    shutil.rmtree('downloads')\n",
    "except FileNotFoundError:\n",
    "    pass"
   ]
  },
  {
   "cell_type": "markdown",
   "id": "7107c030",
   "metadata": {},
   "source": [
    "### Download an image to the keyword"
   ]
  },
  {
   "cell_type": "code",
   "execution_count": null,
   "id": "7aacd799",
   "metadata": {},
   "outputs": [],
   "source": [
    "response = google_images_download.googleimagesdownload()\n",
    "arguments = {\"keywords\": keyword, \"limit\": 1, \"print_urls\": True, format: \"jpg\"}\n",
    "response.download(arguments)"
   ]
  },
  {
   "cell_type": "markdown",
   "id": "34cad200",
   "metadata": {},
   "source": [
    "### Create path to image"
   ]
  },
  {
   "cell_type": "code",
   "execution_count": null,
   "id": "efd99279",
   "metadata": {},
   "outputs": [],
   "source": [
    "pic_path = \"downloads/\" + keyword + \"/\" + os.listdir(\"downloads/\" + keyword)[0]"
   ]
  },
  {
   "cell_type": "markdown",
   "id": "acee6bf9",
   "metadata": {},
   "source": [
    "### Create powerpoint without input"
   ]
  },
  {
   "cell_type": "code",
   "execution_count": null,
   "id": "396c13f9",
   "metadata": {},
   "outputs": [],
   "source": [
    "create_power_point_from_gpt(keyword, output, pic_path)"
   ]
  }
 ],
 "metadata": {
  "kernelspec": {
   "display_name": "Python 3 (ipykernel)",
   "language": "python",
   "name": "python3"
  },
  "language_info": {
   "codemirror_mode": {
    "name": "ipython",
    "version": 3
   },
   "file_extension": ".py",
   "mimetype": "text/x-python",
   "name": "python",
   "nbconvert_exporter": "python",
   "pygments_lexer": "ipython3",
   "version": "3.8.8"
  }
 },
 "nbformat": 4,
 "nbformat_minor": 5
}
