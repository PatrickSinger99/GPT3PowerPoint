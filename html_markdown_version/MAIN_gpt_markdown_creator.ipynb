{
 "cells": [
  {
   "cell_type": "markdown",
   "id": "a6b727c3",
   "metadata": {},
   "source": [
    "### Imports"
   ]
  },
  {
   "cell_type": "code",
   "execution_count": null,
   "id": "77d03ae0",
   "metadata": {},
   "outputs": [],
   "source": [
    "%run gpt_content_creator.ipynb\n",
    "%run gpt_subtopic_creator.ipynb\n",
    "%run gpt_mindmap_creator.ipynb\n",
    "\n",
    "import openai\n",
    "from gpt import GPT\n",
    "from gpt import Example"
   ]
  },
  {
   "cell_type": "markdown",
   "id": "3b3f221a",
   "metadata": {},
   "source": [
    "### Function: Creates html body wrapper\n",
    "Creates the html body wrapper around \"section\" parts"
   ]
  },
  {
   "cell_type": "code",
   "execution_count": null,
   "id": "fe84d675",
   "metadata": {},
   "outputs": [],
   "source": [
    "def pack_sections_in_body(sections_list):\n",
    "    body_start = \"<body class=\\\"jp-Notebook\\\"><div class=\\\"reveal\\\"><div class=\\\"slides\\\">\"\n",
    "    body_end = \"</div></div></body>\"\n",
    "\n",
    "    sections = \"\".join(sections_list)\n",
    "\n",
    "    return body_start + sections + body_end"
   ]
  },
  {
   "cell_type": "markdown",
   "id": "00037f86",
   "metadata": {},
   "source": [
    "### Function: Creates jupyter notebook presentation\n",
    "Creates html jupyter notebook presentation code"
   ]
  },
  {
   "cell_type": "code",
   "execution_count": null,
   "id": "7d9759d0",
   "metadata": {},
   "outputs": [],
   "source": [
    "def create_markdown_presentation(sections_list, file_name):\n",
    "    # Static Head Code (Start)\n",
    "    with open(\"ressources/markdown_html_header.txt\", encoding=\"utf8\") as head:\n",
    "        header = head.read()\n",
    "\n",
    "    # GPT generated body code\n",
    "    with open(\"ressources/markdown_script_part.txt\", encoding=\"utf8\") as end:\n",
    "        ending = end.read()\n",
    "\n",
    "    # Static Script Code (Ending)\n",
    "    with open(file_name + \".html\", \"w\",  encoding=\"utf8\") as html:\n",
    "        html.write(header)\n",
    "        html.write(pack_sections_in_body(sections_list))\n",
    "        html.write(ending)\n",
    "    \n",
    "    print(\"File created!\")"
   ]
  },
  {
   "cell_type": "markdown",
   "id": "a5821e75",
   "metadata": {},
   "source": [
    "### OpenAI Key\n",
    "Get the OpenAI Key from the txt file"
   ]
  },
  {
   "cell_type": "code",
   "execution_count": null,
   "id": "060790cc",
   "metadata": {},
   "outputs": [],
   "source": [
    "# Openai key\n",
    "with open(\"openai_key.txt\") as file:\n",
    "    key = file.read()\n",
    "    openai.api_key = key"
   ]
  },
  {
   "cell_type": "markdown",
   "id": "47d600b3",
   "metadata": {},
   "source": [
    "### Model Training\n",
    "A GPT Model is beeing created and then trained with Examples.\n",
    "\n",
    "The goal for the model is to create html code from text to be used in a html presentation"
   ]
  },
  {
   "cell_type": "code",
   "execution_count": null,
   "id": "652938f5",
   "metadata": {},
   "outputs": [],
   "source": [
    "# GPT model to create html code from heading and bulletpoints\n",
    "gpt_markdown_creation = GPT(engine=\"davinci\", temperature=.5, max_tokens=150)\n",
    "\n",
    "gpt_markdown_creation.add_example(Example(\"Heading: Cat Text: The cat (Felis catus) is a domesticated species of small carnivorous mammal. It is the only domesticated species in the family Felidae.\",\n",
    "                                       \"<section><div class=\\\"jp-RenderedHTMLCommon jp-RenderedMarkdown jp-MarkdownOutput \\\" data-mime-type=\\\"text/markdown\\\"><h1>Cat</h1><ul><li>The cat (Felis catus) is a domesticated species of small carnivorous mammal.</li><li>It is the only domesticated species in the family Felidae.</li></ul></div></section>\"\n",
    "                                        ))\n",
    "\n",
    "gpt_markdown_creation.add_example(Example(\"Heading: PyCharm Text: PyCharm is an integrated development environment used in computer programming. It is developed by the Czech company JetBrains.\",\n",
    "                                          \"<section><div class=\\\"jp-RenderedHTMLCommon jp-RenderedMarkdown jp-MarkdownOutput \\\" data-mime-type=\\\"text/markdown\\\"><h1>PyCharm</h1><ul><li>PyCharm is an integrated development environment used in computer programming.</li><li>It is developed by the Czech company JetBrains.</li></ul></div></section>\"\n",
    "                                        ))\n",
    "\n",
    "gpt_markdown_creation.add_example(Example(\"Heading: python Text: Python is a high-level programming language. It is a general-purpose language. It is a high-level language. It is a widely used language.\",\n",
    "                                          \"<section><div class=\\\"jp-RenderedHTMLCommon jp-RenderedMarkdown jp-MarkdownOutput \\\" data-mime-type=\\\"text/markdown\\\"><h1>python</h1><ul><li>Python is a high-level programming language.</li><li>It is a general-purpose language.</li><li>It is a high-level language.</li><li>It is a widely used language.</li></ul></div></section>\"\n",
    "                                        ))\n",
    "\n",
    "gpt_markdown_creation.add_example(Example(\"Heading: Etymology and naming Text: The origin of the English word cat is thought to be the Late Latin word cattus, which was first used at the beginning of the 6th century.\",\n",
    "                                          \"<section><div class=\\\"jp-RenderedHTMLCommon jp-RenderedMarkdown jp-MarkdownOutput \\\" data-mime-type=\\\"text/markdown\\\"><h1>Etymology and naming</h1><ul><li>The origin of the English word cat is thought to be the Late Latin word cattus, which was first used at the beginning of the 6th century.</li></ul></div></section>\"\n",
    "                                        ))"
   ]
  },
  {
   "cell_type": "markdown",
   "id": "f7a62c88",
   "metadata": {},
   "source": [
    "### Get user input for topic"
   ]
  },
  {
   "cell_type": "code",
   "execution_count": null,
   "id": "8d19454f",
   "metadata": {},
   "outputs": [],
   "source": [
    "prompt = input(\"Topic: \")"
   ]
  },
  {
   "cell_type": "markdown",
   "id": "ff720ca3",
   "metadata": {},
   "source": [
    "### Generate Subtopics\n",
    "Uses the trained subtopic model from the gpt_subtopic_creator.ipynb file to gererate subtopics"
   ]
  },
  {
   "cell_type": "code",
   "execution_count": null,
   "id": "ee384713",
   "metadata": {},
   "outputs": [],
   "source": [
    "# Get subtopics from topic\n",
    "subtopics = create_subtopics_from_topic(prompt)\n",
    "subtopics = subtopics.split(\", \")\n",
    "\n",
    "# Convert text to list and ad the main topic at first place\n",
    "subtopics_list = [prompt]\n",
    "for i in subtopics:\n",
    "    subtopics_list.append(i.strip())\n",
    "\n",
    "# Limit the subtopic count\n",
    "while True:\n",
    "    num = input(\"Max number of slides: \")\n",
    "    try:\n",
    "        int(num)\n",
    "        break\n",
    "    except:\n",
    "        print(\"Must be a number!\")\n",
    "\n",
    "if len(subtopics_list) > int(num):\n",
    "    subtopics_list = subtopics_list[:int(num)]\n",
    "\n",
    "# Print summary of generated subtopics\n",
    "print(\"GPT-3 generated subtopics:\\n\", subtopics_list)\n",
    "\n",
    "\n",
    "mindmap_topics = \", \".join(subtopics_list)"
   ]
  },
  {
   "cell_type": "markdown",
   "id": "a0c80c0c",
   "metadata": {},
   "source": [
    "### Generate Text for Subtopics\n",
    "Goes through every subtopic and uses the trained gpt model to generate text for it."
   ]
  },
  {
   "cell_type": "code",
   "execution_count": null,
   "id": "6a675d84",
   "metadata": {},
   "outputs": [],
   "source": [
    "# Get text for every subtopic\n",
    "section_list = []\n",
    "for topic in subtopics_list:\n",
    "\n",
    "    if prompt not in topic:\n",
    "        topic = prompt + \" \" + topic\n",
    "\n",
    "    print(\"\\n\" + topic)\n",
    "    print(\"---------------\")\n",
    "\n",
    "    content = create_text_from_topic(topic)\n",
    "\n",
    "    # Clean up content output\n",
    "    content.replace(\"\\\"\", \"\")\n",
    "    content.replace(\"output:\", \"\")\n",
    "\n",
    "    # Convert topic and bulletpoints to format for the html GPT model\n",
    "    content_input = \"Heading: \" + topic + \" Text: \" + content\n",
    "\n",
    "    # Create html Code from GPT Model and create presentation\n",
    "    output = gpt_markdown_creation.submit_request(content_input)\n",
    "\n",
    "    # clean up output code\n",
    "    section_html = output.choices[0].text[8:]\n",
    "    section_html.replace(\"output:\", \"\")\n",
    "    section_html = section_html.strip()\n",
    "    section_html = section_html.split(\"</section>\")[0] + \"</section>\"\n",
    "\n",
    "    print(\"\\nGPT-3 generated html:\\n\" + section_html)\n",
    "    section_list.append(section_html)"
   ]
  },
  {
   "cell_type": "markdown",
   "id": "381e86f1",
   "metadata": {},
   "source": [
    "### Generate Html Mindmap for Subtopics\n",
    "Creates a mindmap with each subtopic"
   ]
  },
  {
   "cell_type": "code",
   "execution_count": null,
   "id": "13550b0b",
   "metadata": {},
   "outputs": [],
   "source": [
    "# Ask if mindmap should be created\n",
    "ans = input(\"Create an overview mindmap? [y/n]: \")\n",
    "if ans.lower() == \"y\":\n",
    "    \n",
    "    # Create mindmap\n",
    "    print(\"\\nInput for mindmap:\\n\" + mindmap_topics + \"\\n\")\n",
    "    mindmap_html = create_mindmap_from_topic(mindmap_topics)\n",
    "    section_list.insert(0,mindmap_html)"
   ]
  },
  {
   "cell_type": "markdown",
   "id": "cff255ce",
   "metadata": {},
   "source": [
    "### Generate the html file\n",
    "Used the defined function to generate the html file"
   ]
  },
  {
   "cell_type": "code",
   "execution_count": null,
   "id": "b6aa7195",
   "metadata": {},
   "outputs": [],
   "source": [
    "create_markdown_presentation(section_list, prompt + \"_gpt_presentation\")"
   ]
  }
 ],
 "metadata": {
  "kernelspec": {
   "display_name": "Python 3 (ipykernel)",
   "language": "python",
   "name": "python3"
  },
  "language_info": {
   "codemirror_mode": {
    "name": "ipython",
    "version": 3
   },
   "file_extension": ".py",
   "mimetype": "text/x-python",
   "name": "python",
   "nbconvert_exporter": "python",
   "pygments_lexer": "ipython3",
   "version": "3.8.8"
  }
 },
 "nbformat": 4,
 "nbformat_minor": 5
}
