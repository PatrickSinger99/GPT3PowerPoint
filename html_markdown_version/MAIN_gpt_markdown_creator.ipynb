{
 "cells": [
  {
   "cell_type": "markdown",
   "id": "a6b727c3",
   "metadata": {},
   "source": [
    "### Imports"
   ]
  },
  {
   "cell_type": "code",
   "execution_count": 1,
   "id": "77d03ae0",
   "metadata": {},
   "outputs": [],
   "source": [
    "%run gpt_content_creator.ipynb\n",
    "%run gpt_subtopic_creator.ipynb\n",
    "%run gpt_mindmap_creator.ipynb\n",
    "\n",
    "import openai\n",
    "from gpt import GPT\n",
    "from gpt import Example"
   ]
  },
  {
   "cell_type": "markdown",
   "id": "3b3f221a",
   "metadata": {},
   "source": [
    "### Function: Creates html body wrapper\n",
    "Creates the html body wrapper around \"section\" parts"
   ]
  },
  {
   "cell_type": "code",
   "execution_count": 2,
   "id": "fe84d675",
   "metadata": {},
   "outputs": [],
   "source": [
    "def pack_sections_in_body(sections_list):\n",
    "    body_start = \"<body class=\\\"jp-Notebook\\\"><div class=\\\"reveal\\\"><div class=\\\"slides\\\">\"\n",
    "    body_end = \"</div></div></body>\"\n",
    "\n",
    "    sections = \"\".join(sections_list)\n",
    "\n",
    "    return body_start + sections + body_end"
   ]
  },
  {
   "cell_type": "markdown",
   "id": "00037f86",
   "metadata": {},
   "source": [
    "### Function: Creates jupyter notebook presentation\n",
    "Creates html jupyter notebook presentation code"
   ]
  },
  {
   "cell_type": "code",
   "execution_count": 3,
   "id": "7d9759d0",
   "metadata": {},
   "outputs": [],
   "source": [
    "def create_markdown_presentation(sections_list, file_name):\n",
    "    # Static Head Code (Start)\n",
    "    with open(\"ressources/markdown_html_header.txt\", encoding=\"utf8\") as head:\n",
    "        header = head.read()\n",
    "\n",
    "    # GPT generated body code\n",
    "    with open(\"ressources/markdown_script_part.txt\", encoding=\"utf8\") as end:\n",
    "        ending = end.read()\n",
    "\n",
    "    # Static Script Code (Ending)\n",
    "    with open(file_name + \".html\", \"w\",  encoding=\"utf8\") as html:\n",
    "        html.write(header)\n",
    "        html.write(pack_sections_in_body(sections_list))\n",
    "        html.write(ending)\n",
    "    \n",
    "    print(\"File created!\")"
   ]
  },
  {
   "cell_type": "markdown",
   "id": "a5821e75",
   "metadata": {},
   "source": [
    "### OpenAI Key\n",
    "Get the OpenAI Key from the txt file"
   ]
  },
  {
   "cell_type": "code",
   "execution_count": 4,
   "id": "060790cc",
   "metadata": {},
   "outputs": [],
   "source": [
    "# Openai key\n",
    "with open(\"openai_key.txt\") as file:\n",
    "    key = file.read()\n",
    "    openai.api_key = key"
   ]
  },
  {
   "cell_type": "markdown",
   "id": "47d600b3",
   "metadata": {},
   "source": [
    "### Model Training\n",
    "A GPT Model is beeing created and then trained with Examples.\n",
    "\n",
    "The goal for the model is to create html code from text to be used in a html presentation"
   ]
  },
  {
   "cell_type": "code",
   "execution_count": 5,
   "id": "652938f5",
   "metadata": {},
   "outputs": [],
   "source": [
    "# GPT model to create html code from heading and bulletpoints\n",
    "gpt_markdown_creation = GPT(engine=\"davinci\", temperature=.5, max_tokens=150)\n",
    "\n",
    "gpt_markdown_creation.add_example(Example(\"Heading: Cat Text: The cat (Felis catus) is a domesticated species of small carnivorous mammal. It is the only domesticated species in the family Felidae.\",\n",
    "                                       \"<section><div class=\\\"jp-RenderedHTMLCommon jp-RenderedMarkdown jp-MarkdownOutput \\\" data-mime-type=\\\"text/markdown\\\"><h1>Cat</h1><ul><li>The cat (Felis catus) is a domesticated species of small carnivorous mammal.</li><li>It is the only domesticated species in the family Felidae.</li></ul></div></section>\"\n",
    "                                        ))\n",
    "\n",
    "gpt_markdown_creation.add_example(Example(\"Heading: PyCharm Text: PyCharm is an integrated development environment used in computer programming. It is developed by the Czech company JetBrains.\",\n",
    "                                          \"<section><div class=\\\"jp-RenderedHTMLCommon jp-RenderedMarkdown jp-MarkdownOutput \\\" data-mime-type=\\\"text/markdown\\\"><h1>PyCharm</h1><ul><li>PyCharm is an integrated development environment used in computer programming.</li><li>It is developed by the Czech company JetBrains.</li></ul></div></section>\"\n",
    "                                        ))\n",
    "\n",
    "gpt_markdown_creation.add_example(Example(\"Heading: python Text: Python is a high-level programming language. It is a general-purpose language. It is a high-level language. It is a widely used language.\",\n",
    "                                          \"<section><div class=\\\"jp-RenderedHTMLCommon jp-RenderedMarkdown jp-MarkdownOutput \\\" data-mime-type=\\\"text/markdown\\\"><h1>python</h1><ul><li>Python is a high-level programming language.</li><li>It is a general-purpose language.</li><li>It is a high-level language.</li><li>It is a widely used language.</li></ul></div></section>\"\n",
    "                                        ))\n",
    "\n",
    "gpt_markdown_creation.add_example(Example(\"Heading: Etymology and naming Text: The origin of the English word cat is thought to be the Late Latin word cattus, which was first used at the beginning of the 6th century.\",\n",
    "                                          \"<section><div class=\\\"jp-RenderedHTMLCommon jp-RenderedMarkdown jp-MarkdownOutput \\\" data-mime-type=\\\"text/markdown\\\"><h1>Etymology and naming</h1><ul><li>The origin of the English word cat is thought to be the Late Latin word cattus, which was first used at the beginning of the 6th century.</li></ul></div></section>\"\n",
    "                                        ))"
   ]
  },
  {
   "cell_type": "markdown",
   "id": "f7a62c88",
   "metadata": {},
   "source": [
    "### Get user input for topic"
   ]
  },
  {
   "cell_type": "code",
   "execution_count": 6,
   "id": "8d19454f",
   "metadata": {},
   "outputs": [
    {
     "name": "stdout",
     "output_type": "stream",
     "text": [
      "Topic: enterprise\n"
     ]
    }
   ],
   "source": [
    "prompt = input(\"Topic: \")"
   ]
  },
  {
   "cell_type": "markdown",
   "id": "ff720ca3",
   "metadata": {},
   "source": [
    "### Generate Subtopics\n",
    "Uses the trained subtopic model from the gpt_subtopic_creator.ipynb file to gererate subtopics"
   ]
  },
  {
   "cell_type": "code",
   "execution_count": 7,
   "id": "ee384713",
   "metadata": {},
   "outputs": [
    {
     "name": "stdout",
     "output_type": "stream",
     "text": [
      "Max number of slides: 6\n",
      "GPT-3 generated subtopics:\n",
      " ['enterprise', 'business', 'company', 'corporation', 'profit', 'market']\n"
     ]
    }
   ],
   "source": [
    "# Get subtopics from topic\n",
    "subtopics = create_subtopics_from_topic(prompt)\n",
    "subtopics = subtopics.split(\", \")\n",
    "\n",
    "# Convert text to list and ad the main topic at first place\n",
    "subtopics_list = [prompt]\n",
    "for i in subtopics:\n",
    "    subtopics_list.append(i.strip())\n",
    "\n",
    "# Limit the subtopic count\n",
    "while True:\n",
    "    num = input(\"Max number of slides: \")\n",
    "    try:\n",
    "        int(num)\n",
    "        break\n",
    "    except:\n",
    "        print(\"Must be a number!\")\n",
    "\n",
    "if len(subtopics_list) > int(num):\n",
    "    subtopics_list = subtopics_list[:int(num)]\n",
    "\n",
    "# Print summary of generated subtopics\n",
    "print(\"GPT-3 generated subtopics:\\n\", subtopics_list)\n",
    "\n",
    "\n",
    "mindmap_topics = \", \".join(subtopics_list)"
   ]
  },
  {
   "cell_type": "markdown",
   "id": "a0c80c0c",
   "metadata": {},
   "source": [
    "### Generate Text for Subtopics\n",
    "Goes through every subtopic and uses the trained gpt model to generate text for it."
   ]
  },
  {
   "cell_type": "code",
   "execution_count": 8,
   "id": "6a675d84",
   "metadata": {},
   "outputs": [
    {
     "name": "stdout",
     "output_type": "stream",
     "text": [
      "\n",
      "enterprise\n",
      "---------------\n",
      "GPT-3 generated Text:\n",
      "An enterprise is a business or organisation. An enterprise is a business or organization, typically of large size.\n",
      "\n",
      "GPT-3 generated html:\n",
      "<section><div class=\"jp-RenderedHTMLCommon jp-RenderedMarkdown jp-MarkdownOutput \" data-mime-type=\"text/markdown\"><h1>enterprise</h1><ul><li>An enterprise is a business or organisation.</li><li>An enterprise is a business or organization, typically of large size.</li></ul></div></section>\n",
      "\n",
      "enterprise business\n",
      "---------------\n",
      "GPT-3 generated Text:\n",
      "Enterprise business is the business of enterprise, the organization of people and other resources to achieve a specific goal.\n",
      "\n",
      "GPT-3 generated html:\n",
      "<section><div class=\"jp-RenderedHTMLCommon jp-RenderedMarkdown jp-MarkdownOutput \" data-mime-type=\"text/markdown\"><h1>enterprise business</h1><ul><li>Enterprise business is the business of enterprise, the organization of people and other resources to achieve a specific goal.</li></ul></div></section>\n",
      "\n",
      "enterprise company\n",
      "---------------\n",
      "GPT-3 generated Text:\n",
      "An enterprise company is a company that is owned by shareholders who invest in the company with the expectation of a profit.\n",
      "\n",
      "GPT-3 generated html:\n",
      "<section><div class=\"jp-RenderedHTMLCommon jp-RenderedMarkdown jp-MarkdownOutput \" data-mime-type=\"text/markdown\"><h1>enterprise company</h1><ul><li>An enterprise company is a company that is owned by shareholders who invest in the company with the expectation of a profit.</li></ul></div></section>\n",
      "\n",
      "enterprise corporation\n",
      "---------------\n",
      "GPT-3 generated Text:\n",
      "An enterprise corporation is a corporation that is organized to operate a business, rather than to make a profit.\n",
      "\n",
      "GPT-3 generated html:\n",
      "<section><div class=\"jp-RenderedHTMLCommon jp-RenderedMarkdown jp-MarkdownOutput \" data-mime-type=\"text/markdown\"><h1>enterprise corporation</h1><ul><li>An enterprise corporation is a corporation that is organized to operate a business, rather than to make a profit.</li></ul></div></section>\n",
      "\n",
      "enterprise profit\n",
      "---------------\n",
      "GPT-3 generated Text:\n",
      "Enterprise profit is the profit made by a company. It is calculated as operating profit plus non-operating income and expense.\n",
      "\n",
      "GPT-3 generated html:\n",
      "<section><div class=\"jp-RenderedHTMLCommon jp-RenderedMarkdown jp-MarkdownOutput \" data-mime-type=\"text/markdown\"><h1>enterprise profit</h1><ul><li>Enterprise profit is the profit made by a company.</li><li>It is calculated as operating profit plus non-operating income and expense.</li></ul></div></section>\n",
      "\n",
      "enterprise market\n",
      "---------------\n",
      "GPT-3 generated Text:\n",
      "An enterprise market is a market for products and services targeted at business rather than consumers.\n",
      "\n",
      "GPT-3 generated html:\n",
      "<section><div class=\"jp-RenderedHTMLCommon jp-RenderedMarkdown jp-MarkdownOutput \" data-mime-type=\"text/markdown\"><h1>enterprise market</h1><ul><li>An enterprise market is a market for products and services targeted at business rather than consumers.</li></ul></div></section>\n"
     ]
    }
   ],
   "source": [
    "# Get text for every subtopic\n",
    "section_list = []\n",
    "for topic in subtopics_list:\n",
    "\n",
    "    if prompt not in topic:\n",
    "        topic = prompt + \" \" + topic\n",
    "\n",
    "    print(\"\\n\" + topic)\n",
    "    print(\"---------------\")\n",
    "\n",
    "    content = create_text_from_topic(topic)\n",
    "\n",
    "    # Clean up content output\n",
    "    content.replace(\"\\\"\", \"\")\n",
    "    content.replace(\"output:\", \"\")\n",
    "\n",
    "    # Convert topic and bulletpoints to format for the html GPT model\n",
    "    content_input = \"Heading: \" + topic + \" Text: \" + content\n",
    "\n",
    "    # Create html Code from GPT Model and create presentation\n",
    "    output = gpt_markdown_creation.submit_request(content_input)\n",
    "\n",
    "    # clean up output code\n",
    "    section_html = output.choices[0].text[8:]\n",
    "    section_html.replace(\"output:\", \"\")\n",
    "    section_html = section_html.strip()\n",
    "    section_html = section_html.split(\"</section>\")[0] + \"</section>\"\n",
    "\n",
    "    print(\"\\nGPT-3 generated html:\\n\" + section_html)\n",
    "    section_list.append(section_html)"
   ]
  },
  {
   "cell_type": "markdown",
   "id": "381e86f1",
   "metadata": {},
   "source": [
    "### Generate Html Mindmap for Subtopics\n",
    "Creates a mindmap with each subtopic"
   ]
  },
  {
   "cell_type": "code",
   "execution_count": 9,
   "id": "13550b0b",
   "metadata": {},
   "outputs": [
    {
     "name": "stdout",
     "output_type": "stream",
     "text": [
      "Create a overview mindmap? [y/n]: y\n",
      "\n",
      "Input for mindmap:\n",
      "enterprise, business, company, corporation, profit, market\n",
      "\n",
      "GPT-3 generated mindmap html code:\n",
      "<section><h1>Overview</h1><div class=\"mindmap-container\"><div class=\"topic\">enterprise</div><ul class=\"mindmap-subtopics\"><li class=\"mindmap-list\">business</li><hr id=\"line1\"><li class=\"buff\"></li><hr id=\"line2\"><li class=\"mindmap-list\">company</li><hr id=\"line3\"><li class=\"buff\"></li><hr id=\"line4\"><li class=\"mindmap-list\">corporation</li><hr id=\"line5\"><li class=\"buff\"></li><hr id=\"line6\"><li class=\"mindmap-list\">profit</li><hr id=\"line7\"><li class=\"buff\"></li><hr id=\"line8\"><li class=\"mindmap-list\">market</li><hr id=\"line9\"><li class=\"buff\"></li></ul></div></section>\n"
     ]
    }
   ],
   "source": [
    "# Ask if mindmap should be created\n",
    "ans = input(\"Create an overview mindmap? [y/n]: \")\n",
    "if ans.lower() == \"y\":\n",
    "    \n",
    "    # Create mindmap\n",
    "    print(\"\\nInput for mindmap:\\n\" + mindmap_topics + \"\\n\")\n",
    "    mindmap_html = create_mindmap_from_topic(mindmap_topics)\n",
    "    section_list.insert(0,mindmap_html)"
   ]
  },
  {
   "cell_type": "markdown",
   "id": "cff255ce",
   "metadata": {},
   "source": [
    "### Generate the html file\n",
    "Used the defined function to generate the html file"
   ]
  },
  {
   "cell_type": "code",
   "execution_count": 10,
   "id": "b6aa7195",
   "metadata": {},
   "outputs": [
    {
     "name": "stdout",
     "output_type": "stream",
     "text": [
      "File created!\n"
     ]
    }
   ],
   "source": [
    "create_markdown_presentation(section_list, prompt + \"_gpt_presentation\")"
   ]
  }
 ],
 "metadata": {
  "kernelspec": {
   "display_name": "Python 3 (ipykernel)",
   "language": "python",
   "name": "python3"
  },
  "language_info": {
   "codemirror_mode": {
    "name": "ipython",
    "version": 3
   },
   "file_extension": ".py",
   "mimetype": "text/x-python",
   "name": "python",
   "nbconvert_exporter": "python",
   "pygments_lexer": "ipython3",
   "version": "3.8.8"
  }
 },
 "nbformat": 4,
 "nbformat_minor": 5
}
