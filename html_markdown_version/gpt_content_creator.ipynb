{
 "cells": [
  {
   "cell_type": "markdown",
   "id": "5ebb7b7c",
   "metadata": {},
   "source": [
    "### Imports"
   ]
  },
  {
   "cell_type": "code",
   "execution_count": 3,
   "id": "931f6191",
   "metadata": {
    "scrolled": false
   },
   "outputs": [],
   "source": [
    "from gpt import GPT\n",
    "import openai\n",
    "from gpt import Example"
   ]
  },
  {
   "cell_type": "markdown",
   "id": "3264b08f",
   "metadata": {},
   "source": [
    "### OpenAI Key\n",
    "Get the OpenAI Key from the txt file"
   ]
  },
  {
   "cell_type": "code",
   "execution_count": 4,
   "id": "dbc23ec2",
   "metadata": {},
   "outputs": [],
   "source": [
    "with open(\"openai_key.txt\") as file:\n",
    "    key = file.read()\n",
    "    openai.api_key = key"
   ]
  },
  {
   "cell_type": "markdown",
   "id": "bd28ab5d",
   "metadata": {},
   "source": [
    "### Model Training\n",
    "A GPT Model is beeing created and then trained with Examples.\n",
    "\n",
    "The goal for the model is to create a few short sentences from a given keyword."
   ]
  },
  {
   "cell_type": "code",
   "execution_count": 5,
   "id": "4025275d",
   "metadata": {},
   "outputs": [],
   "source": [
    "# Model creation\n",
    "gpt_point_creation = GPT(engine=\"davinci\", temperature=.5, max_tokens=120)\n",
    "\n",
    "# Example 1\n",
    "gpt_point_creation.add_example(Example(\"Napoleon III\",\n",
    "                                       \"Napoleon III was the first President of France. He founded the Second Empire, reigning until the defeat. He made the French merchant navy the second largest in the world.\"\n",
    "                                       ))\n",
    "# Example 2\n",
    "gpt_point_creation.add_example(Example(\"mitochondrion\",\n",
    "                                       \"A mitochondrion is a double-membrane-bound organelle. Mitochondria generate most of the cell's supply of adenosine triphosphate. The mitochondrion is often called the powerhouse of the cell.\"\n",
    "                                       ))\n",
    "# Example 3\n",
    "gpt_point_creation.add_example(Example(\"blockchain\",\n",
    "                                       \"A blockchain is a list of blocks, that are linked together. Blockchains are resistant to modification of their data. The data in any given block cannot be altered once recorded.\"\n",
    "                                       ))\n",
    "# Example 4\n",
    "gpt_point_creation.add_example(Example(\"germany\",\n",
    "                                       \"Germany is a country in Central Europe. A region named Germania was documented before AD 100 In the 10th century. It covers an area of 357,022 square kilometres. Germany has a population of over 83 million within its 16 constituent states.\"\n",
    "                                       ))"
   ]
  },
  {
   "cell_type": "markdown",
   "id": "0c1b796d",
   "metadata": {},
   "source": [
    "### Text generation function\n",
    "This function uses the trained model to return short sentences from a given keyword"
   ]
  },
  {
   "cell_type": "code",
   "execution_count": 6,
   "id": "949bf16d",
   "metadata": {},
   "outputs": [],
   "source": [
    "def create_text_from_topic(prompt):\n",
    "    output = gpt_point_creation.submit_request(prompt)\n",
    "    \n",
    "    # Clean up output\n",
    "    text_output = output.choices[0].text[8:]\n",
    "    text_output = text_output.strip()\n",
    "    text_output = text_output.strip(\":\")\n",
    "    \n",
    "    # Print result\n",
    "    print(\"GPT-3 generated Text:\\n\" + text_output)\n",
    "    \n",
    "    return text_output"
   ]
  }
 ],
 "metadata": {
  "kernelspec": {
   "display_name": "Python 3 (ipykernel)",
   "language": "python",
   "name": "python3"
  },
  "language_info": {
   "codemirror_mode": {
    "name": "ipython",
    "version": 3
   },
   "file_extension": ".py",
   "mimetype": "text/x-python",
   "name": "python",
   "nbconvert_exporter": "python",
   "pygments_lexer": "ipython3",
   "version": "3.8.8"
  }
 },
 "nbformat": 4,
 "nbformat_minor": 5
}
