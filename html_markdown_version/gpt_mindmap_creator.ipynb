{
 "cells": [
  {
   "cell_type": "markdown",
   "id": "5ebb7b7c",
   "metadata": {},
   "source": [
    "### Imports"
   ]
  },
  {
   "cell_type": "code",
   "execution_count": 33,
   "id": "931f6191",
   "metadata": {
    "scrolled": false
   },
   "outputs": [],
   "source": [
    "from gpt import GPT\n",
    "import openai\n",
    "from gpt import Example"
   ]
  },
  {
   "cell_type": "markdown",
   "id": "3264b08f",
   "metadata": {},
   "source": [
    "### OpenAI Key\n",
    "Get the OpenAI Key from the txt file"
   ]
  },
  {
   "cell_type": "code",
   "execution_count": 34,
   "id": "dbc23ec2",
   "metadata": {},
   "outputs": [],
   "source": [
    "with open(\"openai_key.txt\") as file:\n",
    "    key = file.read()\n",
    "    openai.api_key = key"
   ]
  },
  {
   "cell_type": "markdown",
   "id": "bd28ab5d",
   "metadata": {},
   "source": [
    "### Model Training\n",
    "A GPT Model is beeing created and then trained with Examples.\n",
    "\n",
    "The goal for the model is to create a few short sentences from a given keyword."
   ]
  },
  {
   "cell_type": "code",
   "execution_count": 35,
   "id": "4025275d",
   "metadata": {},
   "outputs": [],
   "source": [
    "# Model creation\n",
    "gpt_mindmap_creation = GPT(engine=\"davinci\", temperature=.5, max_tokens=300)\n",
    "\n",
    "# Example 1\n",
    "gpt_mindmap_creation.add_example(Example(\"lion, cat, panthera, predator\",\n",
    "                                       \"\"\"<section><h1>Overview</h1><div class=\"mindmap-container\"><div class=\"topic\">lion</div><ul class=\"mindmap-subtopics\"><li class=\"mindmap-list\">cat</li><hr id=\"line1\"><li class=\"buff\"></li><hr id=\"line2\"><li class=\"mindmap-list\">panthera</li><hr id=\"line3\"><li class=\"buff\"></li><hr id=\"line4\"><li class=\"mindmap-list\">predator</li><hr id=\"line5\"><li class=\"buff\"></li></ul></div></section>\"\"\"\n",
    "                                       ))\n",
    "# Example 2\n",
    "gpt_mindmap_creation.add_example(Example(\"neural network, artificial intelligence, artificial brain, brain, brain simulation\",\n",
    "                                       \"\"\"<section><h1>Overview</h1><div class=\"mindmap-container\"><div class=\"topic\">neural network</div><ul class=\"mindmap-subtopics\"><li class=\"mindmap-list\">artificial intelligence</li><hr id=\"line1\"><li class=\"buff\"></li><hr id=\"line2\"><li class=\"mindmap-list\">artificial brain</li><hr id=\"line3\"><li class=\"buff\"></li><hr id=\"line4\"><li class=\"mindmap-list\">brain</li><hr id=\"line5\"><li class=\"buff\"></li><hr id=\"line6\"><li class=\"mindmap-list\">brain simulation</li><hr id=\"line7\"><li class=\"buff\"></li></ul></div></section>\"\"\"\n",
    "                                       ))\n",
    "# Example 3\n",
    "gpt_mindmap_creation.add_example(Example(\"test, exam, test\",\n",
    "                                       \"\"\"<section><h1>Overview</h1><div class=\"mindmap-container\"><div class=\"topic\">test</div><ul class=\"mindmap-subtopics\"><li class=\"mindmap-list\">exam</li><hr id=\"line1\"><li class=\"buff\"></li><hr id=\"line2\"><li class=\"mindmap-list\">test</li><hr id=\"line3\"><li class=\"buff\"></li></ul></div></section>\"\"\"\n",
    "                                       ))\n",
    "# Example 4\n",
    "gpt_mindmap_creation.add_example(Example(\"blockchain, crypto, cryptography, transaction, bitcoin, cryptocurrency, hdm stuttgart\",\n",
    "                                       \"\"\"<section><h1>Overview</h1><div class=\"mindmap-container\"><div class=\"topic\">blockchain</div><ul class=\"mindmap-subtopics\"><li class=\"mindmap-list\">crypto</li><hr id=\"line1\"><li class=\"buff\"></li><hr id=\"line2\"><li class=\"mindmap-list\">cryptography</li><hr id=\"line3\"><li class=\"buff\"></li><hr id=\"line4\"><li class=\"mindmap-list\">transaction</li><hr id=\"line5\"><li class=\"buff\"></li><hr id=\"line6\"><li class=\"mindmap-list\">bitcoin</li><hr id=\"line7\"><li class=\"buff\"></li><hr id=\"line8\"><li class=\"mindmap-list\">cryptocurrency</li><hr id=\"line9\"><li class=\"buff\"></li><hr id=\"line10\"><li class=\"mindmap-list\">hdm stuttgart</li><hr id=\"line11\"><li class=\"buff\"></li></ul></div></section>\"\"\"\n",
    "                                       ))"
   ]
  },
  {
   "cell_type": "markdown",
   "id": "0c1b796d",
   "metadata": {},
   "source": [
    "### Text generation function\n",
    "This function uses the trained model to return short sentences from a given keyword"
   ]
  },
  {
   "cell_type": "code",
   "execution_count": 36,
   "id": "949bf16d",
   "metadata": {},
   "outputs": [],
   "source": [
    "def create_mindmap_from_topic(prompt):\n",
    "    output = gpt_mindmap_creation.submit_request(prompt)\n",
    "    \n",
    "    # Clean up output\n",
    "    text_output = output.choices[0].text[8:]\n",
    "    text_output = text_output.strip()\n",
    "    text_output = text_output.split(\"</section>\")[0] + \"</section>\"\n",
    "    \n",
    "    # Print result\n",
    "    print(\"GPT-3 generated mindmap html code:\\n\" + text_output)\n",
    "    \n",
    "    return text_output"
   ]
  }
 ],
 "metadata": {
  "kernelspec": {
   "display_name": "Python 3 (ipykernel)",
   "language": "python",
   "name": "python3"
  },
  "language_info": {
   "codemirror_mode": {
    "name": "ipython",
    "version": 3
   },
   "file_extension": ".py",
   "mimetype": "text/x-python",
   "name": "python",
   "nbconvert_exporter": "python",
   "pygments_lexer": "ipython3",
   "version": "3.8.8"
  }
 },
 "nbformat": 4,
 "nbformat_minor": 5
}
