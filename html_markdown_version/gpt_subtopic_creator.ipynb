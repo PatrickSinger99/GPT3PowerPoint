{
 "cells": [
  {
   "cell_type": "markdown",
   "id": "2c9c9379",
   "metadata": {},
   "source": [
    "### Imports"
   ]
  },
  {
   "cell_type": "code",
   "execution_count": 6,
   "id": "fee43296",
   "metadata": {},
   "outputs": [],
   "source": [
    "from gpt import GPT\n",
    "import openai\n",
    "from gpt import Example"
   ]
  },
  {
   "cell_type": "markdown",
   "id": "ca209f2f",
   "metadata": {},
   "source": [
    "### OpenAI Key\n",
    "Get the OpenAI Key from the txt file"
   ]
  },
  {
   "cell_type": "code",
   "execution_count": 7,
   "id": "13ba9035",
   "metadata": {},
   "outputs": [],
   "source": [
    "with open(\"openai_key.txt\") as file:\n",
    "    key = file.read()\n",
    "    openai.api_key = key"
   ]
  },
  {
   "cell_type": "markdown",
   "id": "0d0206a0",
   "metadata": {},
   "source": [
    "### Model Training\n",
    "A GPT Model is beeing created and then trained with Examples.\n",
    "\n",
    "The goal for the model is to create subtopics from a single topic"
   ]
  },
  {
   "cell_type": "code",
   "execution_count": 8,
   "id": "57810e11",
   "metadata": {},
   "outputs": [],
   "source": [
    "# Model creation\n",
    "gpt_subtopic_creation = GPT(engine=\"davinci\", temperature=.5, max_tokens=120)\n",
    "\n",
    "# Example 1\n",
    "gpt_subtopic_creation.add_example(Example(\"car\",\n",
    "                                       \"motor, vehicle, transportation, road, wheels\"\n",
    "                                       ))\n",
    "# Example 2\n",
    "gpt_subtopic_creation.add_example(Example(\"tiger\",\n",
    "                                       \"cat, panthera, predator, wildlife, endangered\"\n",
    "                                       ))\n",
    "# Example 3\n",
    "gpt_subtopic_creation.add_example(Example(\"blockchain\",\n",
    "                                       \"crypto, cryptography, transaction, bitcoin, cryptocurrency\"\n",
    "                                       ))\n",
    "# Example 4\n",
    "gpt_subtopic_creation.add_example(Example(\"germany\",\n",
    "                                       \"country, europe, berlin, european union, demogracy\"\n",
    "                                       ))"
   ]
  },
  {
   "cell_type": "markdown",
   "id": "5a5b439f",
   "metadata": {},
   "source": [
    "### Function: Generate Subtopics\n",
    "Uses the trained gpt model to generate subtopics"
   ]
  },
  {
   "cell_type": "code",
   "execution_count": 9,
   "id": "d5250753",
   "metadata": {},
   "outputs": [],
   "source": [
    "def create_subtopics_from_topic(prompt):\n",
    "    output = gpt_subtopic_creation.submit_request(prompt)\n",
    "    text_output = output.choices[0].text[7:]\n",
    "    text_output = text_output.strip(\"\\n\")\n",
    "    text_output = text_output.strip(\"output:\")\n",
    "    return text_output"
   ]
  }
 ],
 "metadata": {
  "kernelspec": {
   "display_name": "Python 3 (ipykernel)",
   "language": "python",
   "name": "python3"
  },
  "language_info": {
   "codemirror_mode": {
    "name": "ipython",
    "version": 3
   },
   "file_extension": ".py",
   "mimetype": "text/x-python",
   "name": "python",
   "nbconvert_exporter": "python",
   "pygments_lexer": "ipython3",
   "version": "3.8.8"
  }
 },
 "nbformat": 4,
 "nbformat_minor": 5
}
